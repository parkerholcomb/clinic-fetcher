{
 "cells": [
  {
   "cell_type": "code",
   "execution_count": 1,
   "metadata": {},
   "outputs": [
    {
     "output_type": "stream",
     "name": "stdout",
     "text": "https://YOUR_SLUG_HERE.execute-api.us-east-1.amazonaws.com/dev/fetch/clinics\nall_zips: 41565\nzips_cache: 40263\nzips_queue: 1304\nyou have processed 0.97% of zip codes\n"
    },
    {
     "output_type": "execute_result",
     "data": {
      "text/plain": "<lib.ZipsQueue at 0x110a8f748>"
     },
     "metadata": {},
     "execution_count": 1
    }
   ],
   "source": [
    "from lib import ZipsQueue\n",
    "\n",
    "ZipsQueue()"
   ]
  }
 ],
 "metadata": {
  "language_info": {
   "codemirror_mode": {
    "name": "ipython",
    "version": 2
   },
   "file_extension": ".py",
   "mimetype": "text/x-python",
   "name": "python",
   "nbconvert_exporter": "python",
   "pygments_lexer": "ipython2",
   "version": "3.7.5-final"
  },
  "orig_nbformat": 2,
  "kernelspec": {
   "name": "python36764bit0a4dd1e436b44dbc879d13143f3d114f",
   "display_name": "Python 3.6.7 64-bit"
  }
 },
 "nbformat": 4,
 "nbformat_minor": 2
}